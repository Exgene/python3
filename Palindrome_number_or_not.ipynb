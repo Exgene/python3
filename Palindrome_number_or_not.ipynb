{
 "cells": [
  {
   "cell_type": "code",
   "execution_count": 12,
   "id": "69f85b20",
   "metadata": {},
   "outputs": [
    {
     "name": "stdout",
     "output_type": "stream",
     "text": [
      "Enter a number101\n",
      "Reverse Number is:101\n",
      "Number is a palindrome\n"
     ]
    }
   ],
   "source": [
    "num1=int(input(\"Enter a number\"))\n",
    "temp=int(num1)\n",
    "num2=0\n",
    "num2=int(num2)\n",
    "while num1!=0:\n",
    "    rem=int(num1%10)\n",
    "    num2=int(num2*10+rem)\n",
    "    num1=int(num1/10)\n",
    "print(\"Reverse Number is:%d\"%num2)\n",
    "if num2==temp:\n",
    "    print(\"Number is a palindrome\")\n",
    "else:print(\"Number is not a palindrome\")"
   ]
  },
  {
   "cell_type": "code",
   "execution_count": null,
   "id": "ca888659",
   "metadata": {},
   "outputs": [],
   "source": []
  },
  {
   "cell_type": "code",
   "execution_count": null,
   "id": "3849c1b5",
   "metadata": {},
   "outputs": [],
   "source": []
  }
 ],
 "metadata": {
  "kernelspec": {
   "display_name": "Python 3 (ipykernel)",
   "language": "python",
   "name": "python3"
  },
  "language_info": {
   "codemirror_mode": {
    "name": "ipython",
    "version": 3
   },
   "file_extension": ".py",
   "mimetype": "text/x-python",
   "name": "python",
   "nbconvert_exporter": "python",
   "pygments_lexer": "ipython3",
   "version": "3.10.5"
  }
 },
 "nbformat": 4,
 "nbformat_minor": 5
}
