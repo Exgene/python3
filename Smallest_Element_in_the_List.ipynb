{
 "cells": [
  {
   "cell_type": "code",
   "execution_count": 11,
   "id": "428eb86d",
   "metadata": {},
   "outputs": [
    {
     "name": "stdout",
     "output_type": "stream",
     "text": [
      "Enter the length of the list1\n",
      "1\n",
      "Smallest Element in the list is:1\n",
      "Index is :0\n"
     ]
    }
   ],
   "source": [
    "def indexOfSmallesElement(lst):\n",
    "    smallest=lst[0]\n",
    "    index=0\n",
    "    for i in range(0,len(lst)):\n",
    "        if lst[i]<smallest:\n",
    "            smallest=lst[i]\n",
    "            index=i\n",
    "    return smallest,index\n",
    "\n",
    "l=[]\n",
    "length=int(input(\"Enter the length of the list\"))\n",
    "for i in range(0,length):\n",
    "    x=int(input())\n",
    "    l.append(x)\n",
    "small,index=indexOfSmallesElement(l)\n",
    "print(\"Smallest Element in the list is:%d\"%small)\n",
    "print(\"Index is :%d\"%index)\n"
   ]
  },
  {
   "cell_type": "markdown",
   "id": "cf461bdd",
   "metadata": {},
   "source": []
  }
 ],
 "metadata": {
  "kernelspec": {
   "display_name": "Python 3 (ipykernel)",
   "language": "python",
   "name": "python3"
  },
  "language_info": {
   "codemirror_mode": {
    "name": "ipython",
    "version": 3
   },
   "file_extension": ".py",
   "mimetype": "text/x-python",
   "name": "python",
   "nbconvert_exporter": "python",
   "pygments_lexer": "ipython3",
   "version": "3.10.5"
  }
 },
 "nbformat": 4,
 "nbformat_minor": 5
}
