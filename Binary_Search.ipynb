{
 "cells": [
  {
   "cell_type": "code",
   "execution_count": 10,
   "id": "56e4c17f",
   "metadata": {},
   "outputs": [
    {
     "name": "stdout",
     "output_type": "stream",
     "text": [
      "Enter the size of List5\n",
      "10\n",
      "34\n",
      "20\n",
      "56\n",
      "33\n",
      "[10, 20, 33, 34, 56]\n",
      "Enter the search element34\n",
      "Element found in location: 3\n"
     ]
    }
   ],
   "source": [
    "def binary_search(l1,n,key):\n",
    "    l=0\n",
    "    h=n-1\n",
    "    while(l<=h):\n",
    "        mid=int((l+h)/2)\n",
    "        if l1[mid]==key:\n",
    "            return mid\n",
    "        elif l1[mid]<key:\n",
    "            l=mid+1\n",
    "        else:\n",
    "            h=mid-1\n",
    "    return -1\n",
    "\n",
    "l=[]\n",
    "numb=int(input(\"Enter the size of List\"))\n",
    "for i in range(numb):\n",
    "    x=int(input())\n",
    "    l.append(x)\n",
    "l.sort()\n",
    "print(l)\n",
    "key=int(input(\"Enter the search element\"))\n",
    "value=binary_search(l,numb,key)\n",
    "if value==-1:\n",
    "    print(\"Not found\")\n",
    "else:\n",
    "    print(\"Element found in location:\",value)\n",
    "\n"
   ]
  },
  {
   "cell_type": "code",
   "execution_count": null,
   "id": "d1dd7e34",
   "metadata": {},
   "outputs": [],
   "source": []
  }
 ],
 "metadata": {
  "kernelspec": {
   "display_name": "Python 3 (ipykernel)",
   "language": "python",
   "name": "python3"
  },
  "language_info": {
   "codemirror_mode": {
    "name": "ipython",
    "version": 3
   },
   "file_extension": ".py",
   "mimetype": "text/x-python",
   "name": "python",
   "nbconvert_exporter": "python",
   "pygments_lexer": "ipython3",
   "version": "3.10.5"
  }
 },
 "nbformat": 4,
 "nbformat_minor": 5
}
