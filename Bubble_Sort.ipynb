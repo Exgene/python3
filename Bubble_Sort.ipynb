{
 "cells": [
  {
   "cell_type": "code",
   "execution_count": 2,
   "id": "23374e61",
   "metadata": {},
   "outputs": [
    {
     "name": "stdout",
     "output_type": "stream",
     "text": [
      "Enter list length4\n",
      "10\n",
      "32\n",
      "12\n",
      "15\n",
      "Sorted List: [10, 12, 15, 32]\n"
     ]
    }
   ],
   "source": [
    "def bubble_sort(l):\n",
    "    if len(l)==0:\n",
    "        print(\"No elements in the list\")\n",
    "        return -1\n",
    "    for i in range(0,len(l)):\n",
    "        for j in range(i,len(l)):\n",
    "            if l[i]>l[j]:\n",
    "                l[i],l[j]=l[j],l[i]\n",
    "    return l\n",
    "l=[]\n",
    "length=int(input(\"Enter list length\"))\n",
    "for i in range(0,length):\n",
    "    x=int(input())\n",
    "    l.append(x)\n",
    "\n",
    "l=bubble_sort(l)\n",
    "print(\"Sorted List:\",l)\n"
   ]
  },
  {
   "cell_type": "markdown",
   "id": "bbcc65ce",
   "metadata": {},
   "source": [
    "#### "
   ]
  }
 ],
 "metadata": {
  "kernelspec": {
   "display_name": "Python 3 (ipykernel)",
   "language": "python",
   "name": "python3"
  },
  "language_info": {
   "codemirror_mode": {
    "name": "ipython",
    "version": 3
   },
   "file_extension": ".py",
   "mimetype": "text/x-python",
   "name": "python",
   "nbconvert_exporter": "python",
   "pygments_lexer": "ipython3",
   "version": "3.10.5"
  }
 },
 "nbformat": 4,
 "nbformat_minor": 5
}
